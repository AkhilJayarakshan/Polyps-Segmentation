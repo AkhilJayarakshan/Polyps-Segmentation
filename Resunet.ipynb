{
 "cells": [
  {
   "cell_type": "code",
   "execution_count": 4,
   "id": "7503953a-5b29-42a1-83f5-ba744e72b982",
   "metadata": {},
   "outputs": [
    {
     "name": "stderr",
     "output_type": "stream",
     "text": [
      "\n",
      "poch 1/10: 100%|██████████████████████████████████| 125/125 [03:47<00:00,  1.82s/it, dice=0.78, iou=0.639, loss=0.385]"
     ]
    },
    {
     "name": "stdout",
     "output_type": "stream",
     "text": [
      "\n",
      "Epoch 1: Avg Loss = 0.5461, IoU = 0.4548, Dice = 0.6060\n",
      "✅ Saved Best Model (IoU = 0.4548)\n"
     ]
    },
    {
     "name": "stderr",
     "output_type": "stream",
     "text": [
      "\n",
      "poch 2/10: 100%|█████████████████████████████████| 125/125 [03:44<00:00,  1.80s/it, dice=0.896, iou=0.812, loss=0.256]"
     ]
    },
    {
     "name": "stdout",
     "output_type": "stream",
     "text": [
      "\n",
      "Epoch 2: Avg Loss = 0.3272, IoU = 0.7076, Dice = 0.8251\n",
      "✅ Saved Best Model (IoU = 0.7076)\n"
     ]
    },
    {
     "name": "stderr",
     "output_type": "stream",
     "text": [
      "\n",
      "poch 3/10: 100%|█████████████████████████████████| 125/125 [03:48<00:00,  1.83s/it, dice=0.674, iou=0.508, loss=0.328]"
     ]
    },
    {
     "name": "stdout",
     "output_type": "stream",
     "text": [
      "\n",
      "Epoch 3: Avg Loss = 0.2246, IoU = 0.7953, Dice = 0.8843\n",
      "✅ Saved Best Model (IoU = 0.7953)\n"
     ]
    },
    {
     "name": "stderr",
     "output_type": "stream",
     "text": [
      "\n",
      "poch 4/10: 100%|█████████████████████████████████| 125/125 [03:49<00:00,  1.84s/it, dice=0.863, iou=0.758, loss=0.191]"
     ]
    },
    {
     "name": "stdout",
     "output_type": "stream",
     "text": [
      "\n",
      "Epoch 4: Avg Loss = 0.1626, IoU = 0.8427, Dice = 0.9134\n",
      "✅ Saved Best Model (IoU = 0.8427)\n"
     ]
    },
    {
     "name": "stderr",
     "output_type": "stream",
     "text": [
      "\n",
      "poch 5/10: 100%|██████████████████████████████████| 125/125 [04:01<00:00,  1.93s/it, dice=0.94, iou=0.886, loss=0.112]"
     ]
    },
    {
     "name": "stdout",
     "output_type": "stream",
     "text": [
      "\n",
      "Epoch 5: Avg Loss = 0.1326, IoU = 0.8493, Dice = 0.9170\n",
      "✅ Saved Best Model (IoU = 0.8493)\n"
     ]
    },
    {
     "name": "stderr",
     "output_type": "stream",
     "text": [
      "\n",
      "poch 6/10: 100%|████████████████████████████████| 125/125 [03:48<00:00,  1.83s/it, dice=0.953, iou=0.911, loss=0.0872]"
     ]
    },
    {
     "name": "stdout",
     "output_type": "stream",
     "text": [
      "\n",
      "Epoch 6: Avg Loss = 0.1070, IoU = 0.8714, Dice = 0.9304\n",
      "✅ Saved Best Model (IoU = 0.8714)\n"
     ]
    },
    {
     "name": "stderr",
     "output_type": "stream",
     "text": [
      "\n",
      "poch 7/10: 100%|████████████████████████████████| 125/125 [03:52<00:00,  1.86s/it, dice=0.911, iou=0.836, loss=0.0876]"
     ]
    },
    {
     "name": "stdout",
     "output_type": "stream",
     "text": [
      "\n",
      "Epoch 7: Avg Loss = 0.0885, IoU = 0.8876, Dice = 0.9398\n",
      "✅ Saved Best Model (IoU = 0.8876)\n"
     ]
    },
    {
     "name": "stderr",
     "output_type": "stream",
     "text": [
      "\n",
      "poch 8/10: 100%|██████████████████████████████████| 125/125 [03:51<00:00,  1.86s/it, dice=0.95, iou=0.905, loss=0.066]"
     ]
    },
    {
     "name": "stdout",
     "output_type": "stream",
     "text": [
      "\n",
      "Epoch 8: Avg Loss = 0.0739, IoU = 0.9007, Dice = 0.9474\n",
      "✅ Saved Best Model (IoU = 0.9007)\n"
     ]
    },
    {
     "name": "stderr",
     "output_type": "stream",
     "text": [
      "\n",
      "poch 9/10: 100%|████████████████████████████████| 125/125 [03:43<00:00,  1.79s/it, dice=0.937, iou=0.881, loss=0.0789]"
     ]
    },
    {
     "name": "stdout",
     "output_type": "stream",
     "text": [
      "\n",
      "Epoch 9: Avg Loss = 0.0616, IoU = 0.9152, Dice = 0.9555\n",
      "✅ Saved Best Model (IoU = 0.9152)\n"
     ]
    },
    {
     "name": "stderr",
     "output_type": "stream",
     "text": [
      "Epoch 10/10: 100%|███████████████████████████████| 125/125 [03:42<00:00,  1.78s/it, dice=0.962, iou=0.928, loss=0.0491]"
     ]
    },
    {
     "name": "stdout",
     "output_type": "stream",
     "text": [
      "\n",
      "Epoch 10: Avg Loss = 0.0580, IoU = 0.9132, Dice = 0.9544\n"
     ]
    },
    {
     "name": "stderr",
     "output_type": "stream",
     "text": [
      "\n"
     ]
    }
   ],
   "source": [
    "import torch\n",
    "import torch.nn as nn\n",
    "from torch.utils.data import DataLoader, Dataset\n",
    "from torchvision import transforms\n",
    "from PIL import Image\n",
    "import os\n",
    "from tqdm import tqdm\n",
    "import segmentation_models_pytorch as smp\n",
    "\n",
    "# ------------------------\n",
    "# Dataset\n",
    "# ------------------------\n",
    "class SegmentationDataset(Dataset):\n",
    "    def __init__(self, image_dir, mask_dir, transform=None):\n",
    "        self.image_dir = image_dir\n",
    "        self.mask_dir = mask_dir\n",
    "        self.transform = transform\n",
    "        self.images = os.listdir(image_dir)\n",
    "    \n",
    "    def __len__(self):\n",
    "        return len(self.images)\n",
    "    \n",
    "    def __getitem__(self, idx):\n",
    "        img_path = os.path.join(self.image_dir, self.images[idx])\n",
    "        mask_path = os.path.join(self.mask_dir, self.images[idx])\n",
    "        \n",
    "        image = Image.open(img_path).convert(\"RGB\")\n",
    "        mask = Image.open(mask_path).convert(\"L\")\n",
    "        \n",
    "        if self.transform:\n",
    "            image = self.transform(image)\n",
    "            mask = self.transform(mask)\n",
    "        \n",
    "        # Normalize mask to binary\n",
    "        mask = (mask > 0).float()\n",
    "        \n",
    "        return image, mask\n",
    "\n",
    "# ------------------------\n",
    "# Transform\n",
    "# ------------------------\n",
    "transform = transforms.Compose([\n",
    "    transforms.Resize((256, 256)),\n",
    "    transforms.ToTensor()\n",
    "])\n",
    "\n",
    "# ------------------------\n",
    "# DataLoader\n",
    "# ------------------------\n",
    "train_dataset = SegmentationDataset(\"Kvasir-SEG/images\", \"Kvasir-SEG/masks\", transform=transform)\n",
    "train_loader = DataLoader(train_dataset, batch_size=8, shuffle=True)\n",
    "\n",
    "# ------------------------\n",
    "# ResUNet\n",
    "# ------------------------\n",
    "class ResUNet(nn.Module):\n",
    "    def __init__(self, in_channels=3, out_classes=1):\n",
    "        super(ResUNet, self).__init__()\n",
    "        self.model = smp.Unet(\n",
    "            encoder_name=\"resnet34\",\n",
    "            encoder_weights=\"imagenet\",\n",
    "            in_channels=in_channels,\n",
    "            classes=out_classes\n",
    "        )\n",
    "\n",
    "    def forward(self, x):\n",
    "        return self.model(x)\n",
    "\n",
    "model = ResUNet().to(\"cuda\" if torch.cuda.is_available() else \"cpu\")\n",
    "\n",
    "# ------------------------\n",
    "# Metrics\n",
    "# ------------------------\n",
    "def iou_score(pred, target, smooth=1e-6):\n",
    "    pred = torch.sigmoid(pred) > 0.5\n",
    "    target = target > 0.5\n",
    "    intersection = (pred & target).sum().float()\n",
    "    union = (pred | target).sum().float()\n",
    "    return (intersection + smooth) / (union + smooth)\n",
    "\n",
    "def dice_score(pred, target, smooth=1e-6):\n",
    "    pred = torch.sigmoid(pred) > 0.5\n",
    "    target = target > 0.5\n",
    "    intersection = (pred & target).sum().float()\n",
    "    return (2. * intersection + smooth) / (pred.sum() + target.sum() + smooth)\n",
    "\n",
    "# ------------------------\n",
    "# Training Setup\n",
    "# ------------------------\n",
    "device = torch.device(\"cuda\" if torch.cuda.is_available() else \"cpu\")\n",
    "criterion = nn.BCEWithLogitsLoss()\n",
    "optimizer = torch.optim.Adam(model.parameters(), lr=1e-4)\n",
    "\n",
    "num_epochs = 10\n",
    "best_iou = 0.0\n",
    "\n",
    "# ------------------------\n",
    "# Training Loop\n",
    "# ------------------------\n",
    "for epoch in range(num_epochs):\n",
    "    model.train()\n",
    "    epoch_loss = 0\n",
    "    epoch_iou = 0\n",
    "    epoch_dice = 0\n",
    "    \n",
    "    loop = tqdm(train_loader, desc=f\"Epoch {epoch+1}/{num_epochs}\")\n",
    "    for images, masks in loop:\n",
    "        images = images.to(device)\n",
    "        masks = masks.to(device)\n",
    "\n",
    "        outputs = model(images)\n",
    "        loss = criterion(outputs, masks)\n",
    "        \n",
    "        optimizer.zero_grad()\n",
    "        loss.backward()\n",
    "        optimizer.step()\n",
    "\n",
    "        # Metrics\n",
    "        iou = iou_score(outputs, masks)\n",
    "        dice = dice_score(outputs, masks)\n",
    "\n",
    "        epoch_loss += loss.item()\n",
    "        epoch_iou += iou.item()\n",
    "        epoch_dice += dice.item()\n",
    "        loop.set_postfix(loss=loss.item(), iou=iou.item(), dice=dice.item())\n",
    "\n",
    "    avg_iou = epoch_iou / len(train_loader)\n",
    "    avg_dice = epoch_dice / len(train_loader)\n",
    "    print(f\"\\nEpoch {epoch+1}: Avg Loss = {epoch_loss/len(train_loader):.4f}, IoU = {avg_iou:.4f}, Dice = {avg_dice:.4f}\")\n",
    "\n",
    "    # Save best model\n",
    "    if avg_iou > best_iou:\n",
    "        best_iou = avg_iou\n",
    "        torch.save(model.state_dict(), \"best_resunet.pth\")\n",
    "        print(f\"✅ Saved Best Model (IoU = {best_iou:.4f})\")\n"
   ]
  },
  {
   "cell_type": "code",
   "execution_count": null,
   "id": "2f4bcda1-02fe-496e-8593-d49b1922b008",
   "metadata": {},
   "outputs": [],
   "source": []
  }
 ],
 "metadata": {
  "kernelspec": {
   "display_name": "Python 3 (ipykernel)",
   "language": "python",
   "name": "python3"
  },
  "language_info": {
   "codemirror_mode": {
    "name": "ipython",
    "version": 3
   },
   "file_extension": ".py",
   "mimetype": "text/x-python",
   "name": "python",
   "nbconvert_exporter": "python",
   "pygments_lexer": "ipython3",
   "version": "3.10.0"
  }
 },
 "nbformat": 4,
 "nbformat_minor": 5
}
